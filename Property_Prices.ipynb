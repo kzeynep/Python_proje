{
  "nbformat": 4,
  "nbformat_minor": 0,
  "metadata": {
    "colab": {
      "provenance": [],
      "mount_file_id": "1u4CB2jGNp29q4VEQ7rTWys8QITn5XZT-",
      "authorship_tag": "ABX9TyNjR+Yb1L4fssWJ8TI6Nrus",
      "include_colab_link": true
    },
    "kernelspec": {
      "name": "python3",
      "display_name": "Python 3"
    },
    "language_info": {
      "name": "python"
    }
  },
  "cells": [
    {
      "cell_type": "markdown",
      "metadata": {
        "id": "view-in-github",
        "colab_type": "text"
      },
      "source": [
        "<a href=\"https://colab.research.google.com/github/kzeynep/Python_proje/blob/main/Property_Prices.ipynb\" target=\"_parent\"><img src=\"https://colab.research.google.com/assets/colab-badge.svg\" alt=\"Open In Colab\"/></a>"
      ]
    },
    {
      "cell_type": "code",
      "execution_count": 16,
      "metadata": {
        "id": "nuP6xNIeTK6t"
      },
      "outputs": [],
      "source": [
        "#Evin alanı + oda sayisi +bin yasi + fiyati olan yapay zeka ile kullanarak evin fiyati belirleme\n"
      ]
    },
    {
      "cell_type": "code",
      "source": [
        "import pandas as pd \n",
        "import matplotlib.pyplot as plt\n",
        "#sklearn library \n",
        "from sklearn import linear_model\n",
        "#veri setimizi import ediyoruz, ayrac olarak noktalı virgül olduğu için bunu belirtiyoruz\n",
        "df = pd.read_csv(\"multilinearregression.csv\",sep=\";\")"
      ],
      "metadata": {
        "id": "NK6BO1FNhnUJ"
      },
      "execution_count": 17,
      "outputs": []
    },
    {
      "cell_type": "code",
      "source": [
        "#veri setimizi görelim ve doğru import ettiğiniz kontrol edelim :\n",
        "df"
      ],
      "metadata": {
        "colab": {
          "base_uri": "https://localhost:8080/",
          "height": 300
        },
        "id": "DxkLI6nyjFqZ",
        "outputId": "74939240-1751-4524-d460-27b935b2c1ce"
      },
      "execution_count": 18,
      "outputs": [
        {
          "output_type": "execute_result",
          "data": {
            "text/plain": [
              "   alan  odasayisi  binayasi   fiyat\n",
              "0   180          5        10  510000\n",
              "1   225          4        18  508000\n",
              "2   260          3         2  548000\n",
              "3   320          6        10  650000\n",
              "4   335          4         9  628000\n",
              "5   345          5        14  632000\n",
              "6   355          3         0  680000\n",
              "7   400          4        10  725000"
            ],
            "text/html": [
              "\n",
              "  <div id=\"df-72e68975-7541-4a8b-a7c7-3932cd7b3ac9\">\n",
              "    <div class=\"colab-df-container\">\n",
              "      <div>\n",
              "<style scoped>\n",
              "    .dataframe tbody tr th:only-of-type {\n",
              "        vertical-align: middle;\n",
              "    }\n",
              "\n",
              "    .dataframe tbody tr th {\n",
              "        vertical-align: top;\n",
              "    }\n",
              "\n",
              "    .dataframe thead th {\n",
              "        text-align: right;\n",
              "    }\n",
              "</style>\n",
              "<table border=\"1\" class=\"dataframe\">\n",
              "  <thead>\n",
              "    <tr style=\"text-align: right;\">\n",
              "      <th></th>\n",
              "      <th>alan</th>\n",
              "      <th>odasayisi</th>\n",
              "      <th>binayasi</th>\n",
              "      <th>fiyat</th>\n",
              "    </tr>\n",
              "  </thead>\n",
              "  <tbody>\n",
              "    <tr>\n",
              "      <th>0</th>\n",
              "      <td>180</td>\n",
              "      <td>5</td>\n",
              "      <td>10</td>\n",
              "      <td>510000</td>\n",
              "    </tr>\n",
              "    <tr>\n",
              "      <th>1</th>\n",
              "      <td>225</td>\n",
              "      <td>4</td>\n",
              "      <td>18</td>\n",
              "      <td>508000</td>\n",
              "    </tr>\n",
              "    <tr>\n",
              "      <th>2</th>\n",
              "      <td>260</td>\n",
              "      <td>3</td>\n",
              "      <td>2</td>\n",
              "      <td>548000</td>\n",
              "    </tr>\n",
              "    <tr>\n",
              "      <th>3</th>\n",
              "      <td>320</td>\n",
              "      <td>6</td>\n",
              "      <td>10</td>\n",
              "      <td>650000</td>\n",
              "    </tr>\n",
              "    <tr>\n",
              "      <th>4</th>\n",
              "      <td>335</td>\n",
              "      <td>4</td>\n",
              "      <td>9</td>\n",
              "      <td>628000</td>\n",
              "    </tr>\n",
              "    <tr>\n",
              "      <th>5</th>\n",
              "      <td>345</td>\n",
              "      <td>5</td>\n",
              "      <td>14</td>\n",
              "      <td>632000</td>\n",
              "    </tr>\n",
              "    <tr>\n",
              "      <th>6</th>\n",
              "      <td>355</td>\n",
              "      <td>3</td>\n",
              "      <td>0</td>\n",
              "      <td>680000</td>\n",
              "    </tr>\n",
              "    <tr>\n",
              "      <th>7</th>\n",
              "      <td>400</td>\n",
              "      <td>4</td>\n",
              "      <td>10</td>\n",
              "      <td>725000</td>\n",
              "    </tr>\n",
              "  </tbody>\n",
              "</table>\n",
              "</div>\n",
              "      <button class=\"colab-df-convert\" onclick=\"convertToInteractive('df-72e68975-7541-4a8b-a7c7-3932cd7b3ac9')\"\n",
              "              title=\"Convert this dataframe to an interactive table.\"\n",
              "              style=\"display:none;\">\n",
              "        \n",
              "  <svg xmlns=\"http://www.w3.org/2000/svg\" height=\"24px\"viewBox=\"0 0 24 24\"\n",
              "       width=\"24px\">\n",
              "    <path d=\"M0 0h24v24H0V0z\" fill=\"none\"/>\n",
              "    <path d=\"M18.56 5.44l.94 2.06.94-2.06 2.06-.94-2.06-.94-.94-2.06-.94 2.06-2.06.94zm-11 1L8.5 8.5l.94-2.06 2.06-.94-2.06-.94L8.5 2.5l-.94 2.06-2.06.94zm10 10l.94 2.06.94-2.06 2.06-.94-2.06-.94-.94-2.06-.94 2.06-2.06.94z\"/><path d=\"M17.41 7.96l-1.37-1.37c-.4-.4-.92-.59-1.43-.59-.52 0-1.04.2-1.43.59L10.3 9.45l-7.72 7.72c-.78.78-.78 2.05 0 2.83L4 21.41c.39.39.9.59 1.41.59.51 0 1.02-.2 1.41-.59l7.78-7.78 2.81-2.81c.8-.78.8-2.07 0-2.86zM5.41 20L4 18.59l7.72-7.72 1.47 1.35L5.41 20z\"/>\n",
              "  </svg>\n",
              "      </button>\n",
              "      \n",
              "  <style>\n",
              "    .colab-df-container {\n",
              "      display:flex;\n",
              "      flex-wrap:wrap;\n",
              "      gap: 12px;\n",
              "    }\n",
              "\n",
              "    .colab-df-convert {\n",
              "      background-color: #E8F0FE;\n",
              "      border: none;\n",
              "      border-radius: 50%;\n",
              "      cursor: pointer;\n",
              "      display: none;\n",
              "      fill: #1967D2;\n",
              "      height: 32px;\n",
              "      padding: 0 0 0 0;\n",
              "      width: 32px;\n",
              "    }\n",
              "\n",
              "    .colab-df-convert:hover {\n",
              "      background-color: #E2EBFA;\n",
              "      box-shadow: 0px 1px 2px rgba(60, 64, 67, 0.3), 0px 1px 3px 1px rgba(60, 64, 67, 0.15);\n",
              "      fill: #174EA6;\n",
              "    }\n",
              "\n",
              "    [theme=dark] .colab-df-convert {\n",
              "      background-color: #3B4455;\n",
              "      fill: #D2E3FC;\n",
              "    }\n",
              "\n",
              "    [theme=dark] .colab-df-convert:hover {\n",
              "      background-color: #434B5C;\n",
              "      box-shadow: 0px 1px 3px 1px rgba(0, 0, 0, 0.15);\n",
              "      filter: drop-shadow(0px 1px 2px rgba(0, 0, 0, 0.3));\n",
              "      fill: #FFFFFF;\n",
              "    }\n",
              "  </style>\n",
              "\n",
              "      <script>\n",
              "        const buttonEl =\n",
              "          document.querySelector('#df-72e68975-7541-4a8b-a7c7-3932cd7b3ac9 button.colab-df-convert');\n",
              "        buttonEl.style.display =\n",
              "          google.colab.kernel.accessAllowed ? 'block' : 'none';\n",
              "\n",
              "        async function convertToInteractive(key) {\n",
              "          const element = document.querySelector('#df-72e68975-7541-4a8b-a7c7-3932cd7b3ac9');\n",
              "          const dataTable =\n",
              "            await google.colab.kernel.invokeFunction('convertToInteractive',\n",
              "                                                     [key], {});\n",
              "          if (!dataTable) return;\n",
              "\n",
              "          const docLinkHtml = 'Like what you see? Visit the ' +\n",
              "            '<a target=\"_blank\" href=https://colab.research.google.com/notebooks/data_table.ipynb>data table notebook</a>'\n",
              "            + ' to learn more about interactive tables.';\n",
              "          element.innerHTML = '';\n",
              "          dataTable['output_type'] = 'display_data';\n",
              "          await google.colab.output.renderOutput(dataTable, element);\n",
              "          const docLink = document.createElement('div');\n",
              "          docLink.innerHTML = docLinkHtml;\n",
              "          element.appendChild(docLink);\n",
              "        }\n",
              "      </script>\n",
              "    </div>\n",
              "  </div>\n",
              "  "
            ]
          },
          "metadata": {},
          "execution_count": 18
        }
      ]
    },
    {
      "cell_type": "code",
      "source": [
        "#linear regression modeli tanımlıyoruz :\n",
        "reg = linear_model.LinearRegression()\n",
        "reg.fit(df[['alan', 'odasayisi', 'binayasi']], df['fiyat'])\n",
        "#prediction yapalım\n",
        "reg.predict([[230,4,10]])"
      ],
      "metadata": {
        "colab": {
          "base_uri": "https://localhost:8080/"
        },
        "id": "OL6OXoXKjOiz",
        "outputId": "70529584-157a-4f5b-ba99-11a85e1321a2"
      },
      "execution_count": 19,
      "outputs": [
        {
          "output_type": "stream",
          "name": "stderr",
          "text": [
            "/usr/local/lib/python3.10/dist-packages/sklearn/base.py:439: UserWarning: X does not have valid feature names, but LinearRegression was fitted with feature names\n",
            "  warnings.warn(\n"
          ]
        },
        {
          "output_type": "execute_result",
          "data": {
            "text/plain": [
              "array([530243.29284619])"
            ]
          },
          "metadata": {},
          "execution_count": 19
        }
      ]
    },
    {
      "cell_type": "code",
      "source": [
        "reg.predict([[230,6,0]])"
      ],
      "metadata": {
        "colab": {
          "base_uri": "https://localhost:8080/"
        },
        "id": "-tHcHUD8l9S4",
        "outputId": "92614b23-1480-4543-c757-3fea382b1c74"
      },
      "execution_count": 20,
      "outputs": [
        {
          "output_type": "stream",
          "name": "stderr",
          "text": [
            "/usr/local/lib/python3.10/dist-packages/sklearn/base.py:439: UserWarning: X does not have valid feature names, but LinearRegression was fitted with feature names\n",
            "  warnings.warn(\n"
          ]
        },
        {
          "output_type": "execute_result",
          "data": {
            "text/plain": [
              "array([586097.7833456])"
            ]
          },
          "metadata": {},
          "execution_count": 20
        }
      ]
    },
    {
      "cell_type": "code",
      "source": [
        "\n",
        "import pandas as pd\n",
        "import matplotlib.pyplot as plt\n",
        "# sklearn library\n",
        "from sklearn import linear_model\n",
        "\n",
        "# veri setimizi import ediyoruz, ayraç olarak noktalı virgül olduğu için bunu belirtiyoruz:\n",
        "df = pd.read_csv(\"multilinearregression.csv\",sep = \";\")\n",
        "\n",
        "\n",
        "# In[2]:\n",
        "\n",
        "\n",
        "# Veri setimizi görelim ve doğru import ettiğiniz kontrol edelim:\n",
        "df\n",
        "\n",
        "\n",
        "# In[3]:\n",
        "\n",
        "\n",
        "df[['alan', 'odasayisi', 'binayasi']]\n",
        "\n",
        "\n",
        "# In[4]:\n",
        "\n",
        "\n",
        "df['fiyat']\n",
        "\n",
        "\n",
        "# In[5]:\n",
        "\n",
        "\n",
        "# linear regression modeli tanımlıyoruz:\n",
        "\n",
        "reg = linear_model.LinearRegression()\n",
        "reg.fit(df[['alan', 'odasayisi', 'binayasi']], df['fiyat'])\n",
        "\n",
        "# Prediction yapalım..\n",
        "\n",
        "reg.predict([[230,4,10]])\n",
        "\n",
        "\n",
        "# In[10]:\n",
        "\n",
        "\n",
        "reg.predict([[230,6,0]])\n",
        "\n",
        "\n",
        "# In[11]:\n",
        "\n",
        "\n",
        "reg.predict([[355,3,20]])\n",
        "\n",
        "\n",
        "# In[12]:\n",
        "\n",
        "\n",
        "reg.predict([[230,4,10], [230,6,0], [355,3,20]])\n",
        "\n",
        "\n",
        "# In[13]:\n",
        "\n",
        "\n",
        "reg.coef_\n",
        "\n",
        "\n",
        "# In[14]:\n",
        "\n",
        "\n",
        "reg.intercept_\n",
        "\n",
        "\n",
        "# In[15]:\n",
        "\n",
        "\n",
        "# Multiple Linear regression formülümüze dönersek hatırlayalım:\n",
        "# y= a + b1X1 + b2X2 + b3X3 + ... formülümüzdü\n",
        "\n",
        "a = reg.intercept_\n",
        "b1 = reg.coef_[0]\n",
        "b2 = reg.coef_[1]\n",
        "b3 = reg.coef_[2]\n",
        "\n",
        "x1 = 230\n",
        "x2 = 4\n",
        "x3 = 10\n",
        "y = a + b1*x1 + b2*x2 + b3*x3\n",
        "\n",
        "y\n",
        "\n",
        "\n",
        "# In[ ]:\n",
        "\n",
        "\n",
        "\n",
        "\n",
        "\n",
        "# In[ ]:\n"
      ],
      "metadata": {
        "colab": {
          "base_uri": "https://localhost:8080/"
        },
        "id": "JQc50N9zmFd1",
        "outputId": "889ab3e9-30a6-4b0c-b48b-d360b32a3560"
      },
      "execution_count": 21,
      "outputs": [
        {
          "output_type": "stream",
          "name": "stderr",
          "text": [
            "/usr/local/lib/python3.10/dist-packages/sklearn/base.py:439: UserWarning: X does not have valid feature names, but LinearRegression was fitted with feature names\n",
            "  warnings.warn(\n",
            "/usr/local/lib/python3.10/dist-packages/sklearn/base.py:439: UserWarning: X does not have valid feature names, but LinearRegression was fitted with feature names\n",
            "  warnings.warn(\n",
            "/usr/local/lib/python3.10/dist-packages/sklearn/base.py:439: UserWarning: X does not have valid feature names, but LinearRegression was fitted with feature names\n",
            "  warnings.warn(\n",
            "/usr/local/lib/python3.10/dist-packages/sklearn/base.py:439: UserWarning: X does not have valid feature names, but LinearRegression was fitted with feature names\n",
            "  warnings.warn(\n"
          ]
        },
        {
          "output_type": "execute_result",
          "data": {
            "text/plain": [
              "530243.2928461881"
            ]
          },
          "metadata": {},
          "execution_count": 21
        }
      ]
    }
  ]
}